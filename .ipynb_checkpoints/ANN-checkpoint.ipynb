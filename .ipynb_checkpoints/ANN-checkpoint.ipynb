{
 "cells": [
  {
   "cell_type": "code",
   "execution_count": 1,
   "id": "dc0100d6",
   "metadata": {},
   "outputs": [],
   "source": [
    "import numpy as np \n",
    "import pandas as pd\n",
    "\n",
    "standard=pd.read_excel('standard.xlsx',header=1)\n",
    "standard=standard.rename(columns={\"대기온도\" : \"외부 대기온도\", \"대기온도.1\" : \"최대 대기온도\", \"대기온도.2\" : \"최소 대기온도\",\n",
    "                   \"온도\" : \"이슬점 온도\", \"온도1\" : \"노면온도1\", \"온도2\" : \"노면온도2\", \"요약\" : \"시편상태 요약\"})\n",
    "standard=standard.iloc[:,[3,6,7,8,18,35,43,44,45]]\n",
    "\n",
    "standard = standard.replace(\"---\", np.nan)\n",
    "standard=standard.replace(\"확인불가\",np.nan)\n",
    "standard=standard.dropna(axis=0)\n",
    "\n",
    "standard.reset_index(drop=True)\n",
    "\n",
    "temp=standard.drop(labels=['날씨','시편상태'],axis=1)\n",
    "temp.replace('결빙',1,inplace=True)\n",
    "temp.replace('비결빙',0,inplace=True)\n",
    "X=temp.iloc[:,:-1];y=temp.iloc[:,-1]\n",
    "\n",
    "freeze_input=X.to_numpy()\n",
    "freeze_target=y.to_numpy()\n",
    "\n",
    "from sklearn.model_selection import train_test_split\n",
    "\n",
    "train_input, test_input, train_target, test_target=train_test_split(\n",
    "    freeze_input,freeze_target,stratify=freeze_target,random_state=42)\n",
    "\n",
    "from sklearn.preprocessing import StandardScaler\n",
    "\n",
    "ss=StandardScaler()\n",
    "ss.fit(train_input)\n",
    "train_scaled=ss.transform(train_input)\n",
    "test_scaled=ss.transform(test_input)"
   ]
  },
  {
   "cell_type": "code",
   "execution_count": 2,
   "id": "f1524cff",
   "metadata": {},
   "outputs": [
    {
     "name": "stdout",
     "output_type": "stream",
     "text": [
      "Model: \"sequential\"\n",
      "_________________________________________________________________\n",
      " Layer (type)                Output Shape              Param #   \n",
      "=================================================================\n",
      " dense (Dense)               (None, 128)               896       \n",
      "                                                                 \n",
      " dense_1 (Dense)             (None, 64)                8256      \n",
      "                                                                 \n",
      " dropout (Dropout)           (None, 64)                0         \n",
      "                                                                 \n",
      " dense_2 (Dense)             (None, 1)                 65        \n",
      "                                                                 \n",
      "=================================================================\n",
      "Total params: 9,217\n",
      "Trainable params: 9,217\n",
      "Non-trainable params: 0\n",
      "_________________________________________________________________\n",
      "Epoch 1/20\n",
      "439/439 [==============================] - 4s 5ms/step - loss: 0.0807 - accuracy: 0.9752\n",
      "Epoch 2/20\n",
      "439/439 [==============================] - 2s 4ms/step - loss: 0.0264 - accuracy: 0.9901\n",
      "Epoch 3/20\n",
      "439/439 [==============================] - 2s 4ms/step - loss: 0.0193 - accuracy: 0.9935\n",
      "Epoch 4/20\n",
      "439/439 [==============================] - 2s 4ms/step - loss: 0.0166 - accuracy: 0.9951\n",
      "Epoch 5/20\n",
      "439/439 [==============================] - 2s 4ms/step - loss: 0.0152 - accuracy: 0.9947\n",
      "Epoch 6/20\n",
      "439/439 [==============================] - 2s 4ms/step - loss: 0.0130 - accuracy: 0.9962\n",
      "Epoch 7/20\n",
      "439/439 [==============================] - 2s 4ms/step - loss: 0.0134 - accuracy: 0.9959\n",
      "Epoch 8/20\n",
      "439/439 [==============================] - 2s 6ms/step - loss: 0.0109 - accuracy: 0.9967\n",
      "Epoch 9/20\n",
      "439/439 [==============================] - 2s 4ms/step - loss: 0.0111 - accuracy: 0.9965\n",
      "Epoch 10/20\n",
      "439/439 [==============================] - 2s 5ms/step - loss: 0.0108 - accuracy: 0.9962\n",
      "Epoch 11/20\n",
      "439/439 [==============================] - 2s 5ms/step - loss: 0.0095 - accuracy: 0.9973\n",
      "Epoch 12/20\n",
      "439/439 [==============================] - 2s 5ms/step - loss: 0.0093 - accuracy: 0.9971\n",
      "Epoch 13/20\n",
      "439/439 [==============================] - 3s 6ms/step - loss: 0.0099 - accuracy: 0.9967\n",
      "Epoch 14/20\n",
      "439/439 [==============================] - 2s 4ms/step - loss: 0.0098 - accuracy: 0.9964\n",
      "Epoch 15/20\n",
      "439/439 [==============================] - 2s 4ms/step - loss: 0.0091 - accuracy: 0.9972\n",
      "Epoch 16/20\n",
      "439/439 [==============================] - 2s 4ms/step - loss: 0.0102 - accuracy: 0.9965\n",
      "Epoch 17/20\n",
      "439/439 [==============================] - 2s 4ms/step - loss: 0.0088 - accuracy: 0.9969\n",
      "Epoch 18/20\n",
      "439/439 [==============================] - 2s 4ms/step - loss: 0.0084 - accuracy: 0.9968\n",
      "Epoch 19/20\n",
      "439/439 [==============================] - 2s 4ms/step - loss: 0.0088 - accuracy: 0.9969\n",
      "Epoch 20/20\n",
      "439/439 [==============================] - 2s 4ms/step - loss: 0.0078 - accuracy: 0.9973\n",
      "147/147 [==============================] - 1s 3ms/step\n"
     ]
    },
    {
     "ename": "NameError",
     "evalue": "name 'probs' is not defined",
     "output_type": "error",
     "traceback": [
      "\u001b[1;31m---------------------------------------------------------------------------\u001b[0m",
      "\u001b[1;31mNameError\u001b[0m                                 Traceback (most recent call last)",
      "\u001b[1;32m<ipython-input-2-bb61058085bc>\u001b[0m in \u001b[0;36m<module>\u001b[1;34m\u001b[0m\n\u001b[0;32m     23\u001b[0m \u001b[1;33m\u001b[0m\u001b[0m\n\u001b[0;32m     24\u001b[0m \u001b[0mprob\u001b[0m \u001b[1;33m=\u001b[0m \u001b[0mmodel\u001b[0m\u001b[1;33m.\u001b[0m\u001b[0mpredict\u001b[0m\u001b[1;33m(\u001b[0m\u001b[0mtest_scaled\u001b[0m\u001b[1;33m)\u001b[0m\u001b[1;33m\u001b[0m\u001b[1;33m\u001b[0m\u001b[0m\n\u001b[1;32m---> 25\u001b[1;33m \u001b[0mprob\u001b[0m \u001b[1;33m=\u001b[0m \u001b[0mprobs\u001b[0m\u001b[1;33m[\u001b[0m\u001b[1;33m:\u001b[0m\u001b[1;33m,\u001b[0m \u001b[1;36m1\u001b[0m\u001b[1;33m]\u001b[0m\u001b[1;33m\u001b[0m\u001b[1;33m\u001b[0m\u001b[0m\n\u001b[0m\u001b[0;32m     26\u001b[0m \u001b[0mfper\u001b[0m\u001b[1;33m,\u001b[0m \u001b[0mtper\u001b[0m\u001b[1;33m,\u001b[0m \u001b[0mthresholds\u001b[0m \u001b[1;33m=\u001b[0m \u001b[0mroc_curve\u001b[0m\u001b[1;33m(\u001b[0m\u001b[0mtest_target\u001b[0m\u001b[1;33m,\u001b[0m \u001b[0mprob\u001b[0m\u001b[1;33m)\u001b[0m\u001b[1;33m\u001b[0m\u001b[1;33m\u001b[0m\u001b[0m\n\u001b[0;32m     27\u001b[0m \u001b[0mplot_roc_curve\u001b[0m\u001b[1;33m(\u001b[0m\u001b[0mfper\u001b[0m\u001b[1;33m,\u001b[0m \u001b[0mtper\u001b[0m\u001b[1;33m)\u001b[0m\u001b[1;33m\u001b[0m\u001b[1;33m\u001b[0m\u001b[0m\n",
      "\u001b[1;31mNameError\u001b[0m: name 'probs' is not defined"
     ]
    }
   ],
   "source": [
    "import tensorflow as tf\n",
    "from tensorflow import keras\n",
    "model=keras.Sequential()\n",
    "model.add(keras.layers.Dense(128,activation='relu',input_shape=(6,)))\n",
    "model.add(keras.layers.Dense(64,activation='relu'))\n",
    "model.add(keras.layers.Dropout(0.1))\n",
    "model.add(keras.layers.Dense(1,activation='sigmoid'))\n",
    "model.compile(optimizer='adam',loss='binary_crossentropy',metrics='accuracy')\n",
    "model.summary()\n",
    "\n",
    "history=model.fit(train_scaled,train_target,epochs=20)\n",
    "\n",
    "from sklearn.metrics import roc_curve\n",
    "\n",
    "def plot_roc_curve(fper, tper):\n",
    "    plt.plot(fper, tper, color='red', label='ROC')\n",
    "    plt.plot([0, 1], [0, 1], color='green', linestyle='--')\n",
    "    plt.xlabel('False Positive Rate')\n",
    "    plt.ylabel('True Positive Rate')\n",
    "    plt.title('Receiver Operating Characteristic Curve')\n",
    "    plt.legend()\n",
    "    plt.show()"
   ]
  },
  {
   "cell_type": "code",
   "execution_count": 3,
   "id": "f19b47f5",
   "metadata": {},
   "outputs": [
    {
     "name": "stdout",
     "output_type": "stream",
     "text": [
      "147/147 [==============================] - 0s 2ms/step\n"
     ]
    },
    {
     "data": {
      "image/png": "[encoded data removed]",
      "text/plain": [
       "<Figure size 432x288 with 1 Axes>"
      ]
     },
     "metadata": {
      "needs_background": "light"
     },
     "output_type": "display_data"
    }
   ],
   "source": [
    "import matplotlib.pyplot as plt\n",
    "\n",
    "prob = model.predict(test_scaled)\n",
    "prob = prob[:]\n",
    "fper, tper, thresholds = roc_curve(test_target, prob)\n",
    "plot_roc_curve(fper, tper)"
   ]
  },
  {
   "cell_type": "code",
   "execution_count": 5,
   "id": "34ca2299",
   "metadata": {},
   "outputs": [],
   "source": [
    "from sklearn.metrics import confusion_matrix, classification_report\n",
    "\n",
    "print(confusion_matrix(test_target, predictions_3))\n",
    "print(classification_report(test_target, predictions_3))"
   ]
  },
  {
   "cell_type": "code",
   "execution_count": null,
   "id": "46d4465f",
   "metadata": {},
   "outputs": [],
   "source": []
  }
 ],
 "metadata": {
  "kernelspec": {
   "display_name": "Python 3",
   "language": "python",
   "name": "python3"
  },
  "language_info": {
   "codemirror_mode": {
    "name": "ipython",
    "version": 3
   },
   "file_extension": ".py",
   "mimetype": "text/x-python",
   "name": "python",
   "nbconvert_exporter": "python",
   "pygments_lexer": "ipython3",
   "version": "3.8.8"
  }
 },
 "nbformat": 4,
 "nbformat_minor": 5
}
